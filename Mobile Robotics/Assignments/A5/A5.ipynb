{
 "cells": [
  {
   "cell_type": "markdown",
   "metadata": {},
   "source": [
    "Problem 1: \n",
    "Part g: Report the estimated camera pose ˆXCW = (ˆtCW, ˆRCW) ∈ SE(3) obtained from (6), and submit the code that you wrote to implement the optimization. "
   ]
  },
  {
   "cell_type": "code",
   "execution_count": 5,
   "metadata": {},
   "outputs": [],
   "source": [
    "# Points in world frame\n",
    "w1 = [1, 0, 0]\n",
    "w2 = [0, 1, 0]\n",
    "w3 = [0, 0, 1]\n",
    "w4 = [0, 0, 0]\n",
    "\n",
    "p = [w1, w2, w3, w4]\n",
    "\n",
    "# Points in image\n",
    "\n",
    "u1 = [0.866, 0.289, -0.408]\n",
    "u2 = [-0.945, 0.189, -0.267]\n",
    "u3 = [-0.189, -0.567, 0.802]\n",
    "u4 = [-0.289, -0.866, -0.408]\n",
    "\n",
    "u = [u1, u2, u3, u4]"
   ]
  },
  {
   "cell_type": "code",
   "execution_count": 6,
   "metadata": {},
   "outputs": [],
   "source": [
    "import pymanopt\n",
    "import pymanopt.manifolds\n",
    "from pymanopt.optimizers import SteepestDescent\n",
    "import autograd.numpy as np"
   ]
  },
  {
   "cell_type": "code",
   "execution_count": 11,
   "metadata": {},
   "outputs": [
    {
     "ename": "TypeError",
     "evalue": "SpecialOrthogonalGroup.__init__() takes 2 positional arguments but 3 were given",
     "output_type": "error",
     "traceback": [
      "\u001b[1;31m---------------------------------------------------------------------------\u001b[0m",
      "\u001b[1;31mTypeError\u001b[0m                                 Traceback (most recent call last)",
      "Cell \u001b[1;32mIn [11], line 3\u001b[0m\n\u001b[0;32m      1\u001b[0m dim \u001b[39m=\u001b[39m \u001b[39m3\u001b[39m\n\u001b[0;32m      2\u001b[0m t \u001b[39m=\u001b[39m pymanopt\u001b[39m.\u001b[39mmanifolds\u001b[39m.\u001b[39mEuclidean(dim)\n\u001b[1;32m----> 3\u001b[0m rot_mat \u001b[39m=\u001b[39m pymanopt\u001b[39m.\u001b[39;49mmanifolds\u001b[39m.\u001b[39;49mSpecialOrthogonalGroup(dim,dim)\n\u001b[0;32m      5\u001b[0m manifold \u001b[39m=\u001b[39m pymanopt\u001b[39m.\u001b[39mmanifolds\u001b[39m.\u001b[39mproduct\u001b[39m.\u001b[39mProduct([rot_mat, t])\n",
      "\u001b[1;31mTypeError\u001b[0m: SpecialOrthogonalGroup.__init__() takes 2 positional arguments but 3 were given"
     ]
    }
   ],
   "source": [
    "dim = 3\n",
    "t = pymanopt.manifolds.Euclidean(dim)\n",
    "rot_mat = pymanopt.manifolds.SpecialOrthogonalGroup(dim,dim)\n",
    "\n",
    "manifold = pymanopt.manifolds.product.Product([rot_mat, t])\n"
   ]
  },
  {
   "cell_type": "code",
   "execution_count": 19,
   "metadata": {},
   "outputs": [
    {
     "name": "stdout",
     "output_type": "stream",
     "text": [
      "Optimizing...\n",
      "Iteration    Cost                       Gradient norm     \n",
      "---------    -----------------------    --------------    \n",
      "9.999014522907068\n",
      "Autograd ArrayBox with value 9.999014522907068\n"
     ]
    },
    {
     "ename": "TypeError",
     "evalue": "can't multiply sequence by non-int of type 'numpy.float64'",
     "output_type": "error",
     "traceback": [
      "\u001b[1;31m---------------------------------------------------------------------------\u001b[0m",
      "\u001b[1;31mTypeError\u001b[0m                                 Traceback (most recent call last)",
      "Cell \u001b[1;32mIn [19], line 16\u001b[0m\n\u001b[0;32m     13\u001b[0m problem \u001b[39m=\u001b[39m pymanopt\u001b[39m.\u001b[39mProblem(manifold,cost)\n\u001b[0;32m     14\u001b[0m optimzer \u001b[39m=\u001b[39m SteepestDescent()\n\u001b[1;32m---> 16\u001b[0m result \u001b[39m=\u001b[39m optimzer\u001b[39m.\u001b[39;49mrun(problem)\n\u001b[0;32m     18\u001b[0m \u001b[39mprint\u001b[39m(result)\n",
      "File \u001b[1;32mc:\\Users\\lalet\\AppData\\Local\\Programs\\Python\\Python310\\lib\\site-packages\\pymanopt\\optimizers\\steepest_descent.py:96\u001b[0m, in \u001b[0;36mSteepestDescent.run\u001b[1;34m(self, problem, initial_point, reuse_line_searcher)\u001b[0m\n\u001b[0;32m     94\u001b[0m \u001b[39m# Calculate new cost, grad and gradient_norm\u001b[39;00m\n\u001b[0;32m     95\u001b[0m cost \u001b[39m=\u001b[39m objective(x)\n\u001b[1;32m---> 96\u001b[0m grad \u001b[39m=\u001b[39m gradient(x)\n\u001b[0;32m     97\u001b[0m gradient_norm \u001b[39m=\u001b[39m manifold\u001b[39m.\u001b[39mnorm(x, grad)\n\u001b[0;32m     99\u001b[0m column_printer\u001b[39m.\u001b[39mprint_row([iteration, cost, gradient_norm])\n",
      "File \u001b[1;32mc:\\Users\\lalet\\AppData\\Local\\Programs\\Python\\Python310\\lib\\site-packages\\pymanopt\\core\\problem.py:257\u001b[0m, in \u001b[0;36mProblem.riemannian_gradient.<locals>.riemannian_gradient\u001b[1;34m(point)\u001b[0m\n\u001b[0;32m    255\u001b[0m \u001b[39mdef\u001b[39;00m \u001b[39mriemannian_gradient\u001b[39m(point):\n\u001b[0;32m    256\u001b[0m     \u001b[39mreturn\u001b[39;00m \u001b[39mself\u001b[39m\u001b[39m.\u001b[39mmanifold\u001b[39m.\u001b[39meuclidean_to_riemannian_gradient(\n\u001b[1;32m--> 257\u001b[0m         point, \u001b[39mself\u001b[39;49m\u001b[39m.\u001b[39;49meuclidean_gradient(point)\n\u001b[0;32m    258\u001b[0m     )\n",
      "File \u001b[1;32mc:\\Users\\lalet\\AppData\\Local\\Programs\\Python\\Python310\\lib\\site-packages\\pymanopt\\core\\problem.py:149\u001b[0m, in \u001b[0;36mProblem._group_return_values.<locals>.wrapper\u001b[1;34m(*args, **kwargs)\u001b[0m\n\u001b[0;32m    147\u001b[0m \u001b[39m@functools\u001b[39m\u001b[39m.\u001b[39mwraps(function)\n\u001b[0;32m    148\u001b[0m \u001b[39mdef\u001b[39;00m \u001b[39mwrapper\u001b[39m(\u001b[39m*\u001b[39margs, \u001b[39m*\u001b[39m\u001b[39m*\u001b[39mkwargs):\n\u001b[1;32m--> 149\u001b[0m     return_values \u001b[39m=\u001b[39m function(\u001b[39m*\u001b[39margs, \u001b[39m*\u001b[39m\u001b[39m*\u001b[39mkwargs)\n\u001b[0;32m    150\u001b[0m     \u001b[39mif\u001b[39;00m \u001b[39mnot\u001b[39;00m \u001b[39misinstance\u001b[39m(return_values, (\u001b[39mlist\u001b[39m, \u001b[39mtuple\u001b[39m)):\n\u001b[0;32m    151\u001b[0m         \u001b[39mraise\u001b[39;00m \u001b[39mValueError\u001b[39;00m(\u001b[39m\"\u001b[39m\u001b[39mFunction returned an unexpected value\u001b[39m\u001b[39m\"\u001b[39m)\n",
      "File \u001b[1;32mc:\\Users\\lalet\\AppData\\Local\\Programs\\Python\\Python310\\lib\\site-packages\\pymanopt\\core\\problem.py:175\u001b[0m, in \u001b[0;36mProblem._wrap_function.<locals>.wrapper\u001b[1;34m(point)\u001b[0m\n\u001b[0;32m    173\u001b[0m \u001b[39m@functools\u001b[39m\u001b[39m.\u001b[39mwraps(function)\n\u001b[0;32m    174\u001b[0m \u001b[39mdef\u001b[39;00m \u001b[39mwrapper\u001b[39m(point):\n\u001b[1;32m--> 175\u001b[0m     \u001b[39mreturn\u001b[39;00m function(\u001b[39m*\u001b[39;49m\u001b[39mself\u001b[39;49m\u001b[39m.\u001b[39;49m_flatten_arguments(point, point_layout))\n",
      "File \u001b[1;32mc:\\Users\\lalet\\AppData\\Local\\Programs\\Python\\Python310\\lib\\site-packages\\pymanopt\\autodiff\\backends\\_autograd.py:18\u001b[0m, in \u001b[0;36mconjugate_result.<locals>.wrapper\u001b[1;34m(*args, **kwargs)\u001b[0m\n\u001b[0;32m     16\u001b[0m \u001b[39m@functools\u001b[39m\u001b[39m.\u001b[39mwraps(function)\n\u001b[0;32m     17\u001b[0m \u001b[39mdef\u001b[39;00m \u001b[39mwrapper\u001b[39m(\u001b[39m*\u001b[39margs, \u001b[39m*\u001b[39m\u001b[39m*\u001b[39mkwargs):\n\u001b[1;32m---> 18\u001b[0m     \u001b[39mreturn\u001b[39;00m \u001b[39mlist\u001b[39m(\u001b[39mmap\u001b[39m(np\u001b[39m.\u001b[39mconj, function(\u001b[39m*\u001b[39margs, \u001b[39m*\u001b[39m\u001b[39m*\u001b[39mkwargs)))\n",
      "File \u001b[1;32mc:\\Users\\lalet\\AppData\\Local\\Programs\\Python\\Python310\\lib\\site-packages\\autograd\\wrap_util.py:20\u001b[0m, in \u001b[0;36munary_to_nary.<locals>.nary_operator.<locals>.nary_f\u001b[1;34m(*args, **kwargs)\u001b[0m\n\u001b[0;32m     18\u001b[0m \u001b[39melse\u001b[39;00m:\n\u001b[0;32m     19\u001b[0m     x \u001b[39m=\u001b[39m \u001b[39mtuple\u001b[39m(args[i] \u001b[39mfor\u001b[39;00m i \u001b[39min\u001b[39;00m argnum)\n\u001b[1;32m---> 20\u001b[0m \u001b[39mreturn\u001b[39;00m unary_operator(unary_f, x, \u001b[39m*\u001b[39mnary_op_args, \u001b[39m*\u001b[39m\u001b[39m*\u001b[39mnary_op_kwargs)\n",
      "File \u001b[1;32mc:\\Users\\lalet\\AppData\\Local\\Programs\\Python\\Python310\\lib\\site-packages\\autograd\\differential_operators.py:32\u001b[0m, in \u001b[0;36mgrad\u001b[1;34m(fun, x)\u001b[0m\n\u001b[0;32m     29\u001b[0m \u001b[39mif\u001b[39;00m \u001b[39mnot\u001b[39;00m vspace(ans)\u001b[39m.\u001b[39msize \u001b[39m==\u001b[39m \u001b[39m1\u001b[39m:\n\u001b[0;32m     30\u001b[0m     \u001b[39mraise\u001b[39;00m \u001b[39mTypeError\u001b[39;00m(\u001b[39m\"\u001b[39m\u001b[39mGrad only applies to real scalar-output functions. \u001b[39m\u001b[39m\"\u001b[39m\n\u001b[0;32m     31\u001b[0m                     \u001b[39m\"\u001b[39m\u001b[39mTry jacobian, elementwise_grad or holomorphic_grad.\u001b[39m\u001b[39m\"\u001b[39m)\n\u001b[1;32m---> 32\u001b[0m \u001b[39mreturn\u001b[39;00m vjp(vspace(ans)\u001b[39m.\u001b[39;49mones())\n",
      "File \u001b[1;32mc:\\Users\\lalet\\AppData\\Local\\Programs\\Python\\Python310\\lib\\site-packages\\autograd\\core.py:14\u001b[0m, in \u001b[0;36mmake_vjp.<locals>.vjp\u001b[1;34m(g)\u001b[0m\n\u001b[1;32m---> 14\u001b[0m \u001b[39mdef\u001b[39;00m \u001b[39mvjp\u001b[39m(g): \u001b[39mreturn\u001b[39;00m backward_pass(g, end_node)\n",
      "File \u001b[1;32mc:\\Users\\lalet\\AppData\\Local\\Programs\\Python\\Python310\\lib\\site-packages\\autograd\\core.py:21\u001b[0m, in \u001b[0;36mbackward_pass\u001b[1;34m(g, end_node)\u001b[0m\n\u001b[0;32m     19\u001b[0m \u001b[39mfor\u001b[39;00m node \u001b[39min\u001b[39;00m toposort(end_node):\n\u001b[0;32m     20\u001b[0m     outgrad \u001b[39m=\u001b[39m outgrads\u001b[39m.\u001b[39mpop(node)\n\u001b[1;32m---> 21\u001b[0m     ingrads \u001b[39m=\u001b[39m node\u001b[39m.\u001b[39;49mvjp(outgrad[\u001b[39m0\u001b[39;49m])\n\u001b[0;32m     22\u001b[0m     \u001b[39mfor\u001b[39;00m parent, ingrad \u001b[39min\u001b[39;00m \u001b[39mzip\u001b[39m(node\u001b[39m.\u001b[39mparents, ingrads):\n\u001b[0;32m     23\u001b[0m         outgrads[parent] \u001b[39m=\u001b[39m add_outgrads(outgrads\u001b[39m.\u001b[39mget(parent), ingrad)\n",
      "File \u001b[1;32mc:\\Users\\lalet\\AppData\\Local\\Programs\\Python\\Python310\\lib\\site-packages\\autograd\\core.py:67\u001b[0m, in \u001b[0;36mdefvjp.<locals>.vjp_argnums.<locals>.<lambda>\u001b[1;34m(g)\u001b[0m\n\u001b[0;32m     64\u001b[0m         \u001b[39mraise\u001b[39;00m \u001b[39mNotImplementedError\u001b[39;00m(\n\u001b[0;32m     65\u001b[0m             \u001b[39m\"\u001b[39m\u001b[39mVJP of \u001b[39m\u001b[39m{}\u001b[39;00m\u001b[39m wrt argnum 0 not defined\u001b[39m\u001b[39m\"\u001b[39m\u001b[39m.\u001b[39mformat(fun\u001b[39m.\u001b[39m\u001b[39m__name__\u001b[39m))\n\u001b[0;32m     66\u001b[0m     vjp \u001b[39m=\u001b[39m vjpfun(ans, \u001b[39m*\u001b[39margs, \u001b[39m*\u001b[39m\u001b[39m*\u001b[39mkwargs)\n\u001b[1;32m---> 67\u001b[0m     \u001b[39mreturn\u001b[39;00m \u001b[39mlambda\u001b[39;00m g: (vjp(g),)\n\u001b[0;32m     68\u001b[0m \u001b[39melif\u001b[39;00m L \u001b[39m==\u001b[39m \u001b[39m2\u001b[39m:\n\u001b[0;32m     69\u001b[0m     argnum_0, argnum_1 \u001b[39m=\u001b[39m argnums\n",
      "File \u001b[1;32mc:\\Users\\lalet\\AppData\\Local\\Programs\\Python\\Python310\\lib\\site-packages\\autograd\\numpy\\numpy_vjps.py:418\u001b[0m, in \u001b[0;36mmatmul_vjp_0.<locals>.<lambda>\u001b[1;34m(g)\u001b[0m\n\u001b[0;32m    416\u001b[0m A_meta \u001b[39m=\u001b[39m anp\u001b[39m.\u001b[39mmetadata(A)\n\u001b[0;32m    417\u001b[0m B_ndim \u001b[39m=\u001b[39m anp\u001b[39m.\u001b[39mndim(B)\n\u001b[1;32m--> 418\u001b[0m \u001b[39mreturn\u001b[39;00m \u001b[39mlambda\u001b[39;00m g: matmul_adjoint_0(B, g, A_meta, B_ndim)\n",
      "File \u001b[1;32mc:\\Users\\lalet\\AppData\\Local\\Programs\\Python\\Python310\\lib\\site-packages\\autograd\\numpy\\numpy_vjps.py:386\u001b[0m, in \u001b[0;36mmatmul_adjoint_0\u001b[1;34m(B, G, A_meta, B_ndim)\u001b[0m\n\u001b[0;32m    384\u001b[0m \u001b[39mdef\u001b[39;00m \u001b[39mmatmul_adjoint_0\u001b[39m(B, G, A_meta, B_ndim):\n\u001b[0;32m    385\u001b[0m     \u001b[39mif\u001b[39;00m anp\u001b[39m.\u001b[39mndim(G) \u001b[39m==\u001b[39m \u001b[39m0\u001b[39m:  \u001b[39m# A_ndim == B_ndim == 1\u001b[39;00m\n\u001b[1;32m--> 386\u001b[0m         \u001b[39mreturn\u001b[39;00m unbroadcast(G \u001b[39m*\u001b[39;49m B, A_meta)\n\u001b[0;32m    387\u001b[0m     _, A_ndim, _, _ \u001b[39m=\u001b[39m A_meta\n\u001b[0;32m    388\u001b[0m     \u001b[39mif\u001b[39;00m A_ndim \u001b[39m==\u001b[39m \u001b[39m1\u001b[39m:\n",
      "\u001b[1;31mTypeError\u001b[0m: can't multiply sequence by non-int of type 'numpy.float64'"
     ]
    }
   ],
   "source": [
    "@pymanopt.function.autograd(manifold)\n",
    "def cost(r,t):\n",
    "    L = 0\n",
    "    for i in range(len(u)):\n",
    "        cP = r.astype(float)@p[i] + t.astype(float)\n",
    "        cP = cP / ((cP[0])**2 + (cP[1])**2 + (cP[2])**2)\n",
    "        l = np.arccos(np.transpose(cP) @ u[i])\n",
    "        l = l**2\n",
    "        L += l\n",
    "    return L\n",
    "\n",
    "problem = pymanopt.Problem(manifold,cost)\n",
    "optimzer = SteepestDescent()\n",
    "\n",
    "result = optimzer.run(problem)\n",
    "\n",
    "print(result)"
   ]
  },
  {
   "cell_type": "code",
   "execution_count": null,
   "metadata": {},
   "outputs": [],
   "source": []
  },
  {
   "cell_type": "code",
   "execution_count": null,
   "metadata": {},
   "outputs": [],
   "source": []
  }
 ],
 "metadata": {
  "kernelspec": {
   "display_name": "Python 3.10.7 64-bit",
   "language": "python",
   "name": "python3"
  },
  "language_info": {
   "codemirror_mode": {
    "name": "ipython",
    "version": 3
   },
   "file_extension": ".py",
   "mimetype": "text/x-python",
   "name": "python",
   "nbconvert_exporter": "python",
   "pygments_lexer": "ipython3",
   "version": "3.10.7"
  },
  "orig_nbformat": 4,
  "vscode": {
   "interpreter": {
    "hash": "b7d7b117722725128294925b966c3dd0d26d8ca6b9a1e331977b32a63e0e1457"
   }
  }
 },
 "nbformat": 4,
 "nbformat_minor": 2
}
